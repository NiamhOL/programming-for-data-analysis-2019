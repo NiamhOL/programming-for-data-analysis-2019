{
 "cells": [
  {
   "cell_type": "markdown",
   "metadata": {},
   "source": [
    "# Task 1 #\n",
    "## Explain the overall purpose of the package ##\n",
    "\n",
    "NumPy is short for Numerical Python, and it is a \"library consisting of multidimensional array objects and a collection of routines for processing those arrays.\" [1] An array can be described as a structural set of data, which is typically ordered in row and columns format. Numpy is very useful for perfroming mathematical and logical operations on arrays and it is a fundamental package for scientific computing within Python. NumPy also \"enriches the the programming language Python with powerful data structures, implementing multi-dimensional arrays and matrices.\" [2] These data structures allow for effecient calculations with matrices and arrays. The package also supplies a large library of high-level mathematical functions to operate on.\n",
    "\n",
    "NumPy was developed by Jim Hugunin in 2005 who incorporated features of Numarray into Numeric package. \"Numeric Python took the strong support for numeric arrays provided by special puropse languages such as Matlab and provided them to Python develops in a way the was seamlessly integrated with the rest of the Python language.\" [3] As a result it is used in a variety of situations, including acacdemic institutions and commercial entities to analyse numeric data, in very large matrices and arrays, often referred to as \"big data\". NumPy functions operate on numbers, which is particularly useful for data analytics. For example, while undertaking data analytics, one will be working with tables of numbers, which often require cleaning, organising and reshaping, otherwise known as data manipulation. NumPy allows for the creating an manipulation of numerical data. In recent years NumPy has become important for \"machine learning\", since this often involves the data manipulation of large datasets of numerical data.\n",
    "\n",
    "A NumPy array is a simple grid that containes values of the same type. Arrays come in two forms: Vectors, which are structly one-dimensional (1-d) arrays and Matrices which are multidimensional.\n",
    "\n",
    "To import NumPy use the following code:\n"
   ]
  },
  {
   "cell_type": "code",
   "execution_count": 1,
   "metadata": {},
   "outputs": [],
   "source": [
    "import numpy as np                  # import numpy #"
   ]
  },
  {
   "cell_type": "markdown",
   "metadata": {},
   "source": [
    "\n",
    "\n",
    "# Task 2 #\n",
    "\n",
    "## Explain the use of the \"Simple Random Data\" and \"Permutations\" functions##\n",
    "\n",
    "\n",
    "### Simple Random Data ###\n",
    "\n",
    "\"The use of randomness in an important part of the configuration and evaluaiton of machine leaning.\" [4] A random number is the outcome of a process which speedily chooses it from a sequence. This is called random numbner generation. A simple random sample is a subset of a statistical popularion in which each menber of the subset has an equal probability of being chosen. A simple random sample is meant to be an unbiased repersentaiton of a group.\n",
    "\n",
    "NumPy can be used for random value generation. To get random values in a matrix form, use the following code;\n"
   ]
  },
  {
   "cell_type": "code",
   "execution_count": 2,
   "metadata": {},
   "outputs": [
    {
     "data": {
      "text/plain": [
       "array([[0.60209442, 0.86619933],\n",
       "       [0.66716474, 0.40627786],\n",
       "       [0.59237502, 0.13221428]])"
      ]
     },
     "execution_count": 2,
     "metadata": {},
     "output_type": "execute_result"
    }
   ],
   "source": [
    "np.random.rand(3, 2)    \n"
   ]
  },
  {
   "cell_type": "markdown",
   "metadata": {},
   "source": [
    "This can also be extended to form multiple rows and columns.\n"
   ]
  },
  {
   "cell_type": "code",
   "execution_count": 3,
   "metadata": {},
   "outputs": [],
   "source": [
    "import numpy as np\n"
   ]
  },
  {
   "cell_type": "code",
   "execution_count": 5,
   "metadata": {},
   "outputs": [
    {
     "data": {
      "text/plain": [
       "array([[0.11208925, 0.49415309, 0.905871  , 0.82423164, 0.47742088,\n",
       "        0.81131945, 0.79383787, 0.28618626, 0.71260098, 0.94747218,\n",
       "        0.52885431, 0.55021301, 0.62776772],\n",
       "       [0.31170224, 0.22690313, 0.91053773, 0.05507754, 0.55838159,\n",
       "        0.0935331 , 0.49811645, 0.60599511, 0.22360439, 0.85786897,\n",
       "        0.96224423, 0.63430163, 0.78953033],\n",
       "       [0.73629327, 0.7017569 , 0.16424096, 0.58148774, 0.82299599,\n",
       "        0.15945413, 0.35461559, 0.05964918, 0.98689671, 0.17262454,\n",
       "        0.46249721, 0.67818919, 0.27798547],\n",
       "       [0.32252889, 0.34808645, 0.69568037, 0.37729036, 0.94913386,\n",
       "        0.98340934, 0.08170673, 0.9342973 , 0.99902079, 0.79593316,\n",
       "        0.93566438, 0.62133191, 0.7677412 ],\n",
       "       [0.19235596, 0.1682083 , 0.97841956, 0.11291791, 0.13348355,\n",
       "        0.70071102, 0.30314874, 0.84867126, 0.39099629, 0.47341085,\n",
       "        0.81838939, 0.69213799, 0.53529089],\n",
       "       [0.17594472, 0.93517402, 0.59564712, 0.70472832, 0.85795196,\n",
       "        0.13603469, 0.57465221, 0.25774825, 0.40145525, 0.8002046 ,\n",
       "        0.2846523 , 0.60047607, 0.77465799],\n",
       "       [0.85115551, 0.06359008, 0.38353687, 0.36866594, 0.50187648,\n",
       "        0.77516268, 0.20987463, 0.43133693, 0.99757228, 0.30880562,\n",
       "        0.99779455, 0.1130988 , 0.64356895],\n",
       "       [0.84358584, 0.62802907, 0.01888754, 0.11268855, 0.80624404,\n",
       "        0.12507948, 0.12436807, 0.83326519, 0.43435103, 0.994961  ,\n",
       "        0.09399147, 0.23095591, 0.85035343],\n",
       "       [0.01558551, 0.14736421, 0.92162049, 0.81151732, 0.5640211 ,\n",
       "        0.18657256, 0.52763762, 0.82412488, 0.66821093, 0.14333464,\n",
       "        0.94528894, 0.48617192, 0.28658925],\n",
       "       [0.51552342, 0.00683505, 0.95174683, 0.14179585, 0.81949291,\n",
       "        0.88635262, 0.11004063, 0.14337774, 0.16138896, 0.75405143,\n",
       "        0.29164187, 0.9720873 , 0.03396706],\n",
       "       [0.96165333, 0.11743197, 0.23295173, 0.92223837, 0.6685532 ,\n",
       "        0.24624008, 0.21859713, 0.1085093 , 0.37570747, 0.96236417,\n",
       "        0.50012483, 0.05337496, 0.17262432],\n",
       "       [0.3793299 , 0.58841257, 0.91206286, 0.18546188, 0.92598708,\n",
       "        0.27328307, 0.87536672, 0.15288984, 0.93373176, 0.86969748,\n",
       "        0.49241812, 0.16805294, 0.77725239]])"
      ]
     },
     "execution_count": 5,
     "metadata": {},
     "output_type": "execute_result"
    }
   ],
   "source": [
    "np.random.rand(12,13)\n"
   ]
  },
  {
   "cell_type": "markdown",
   "metadata": {},
   "source": [
    "The *np.random.rand()* function creates an array of a given shape as defined by the user and subssequently populates it with random number, as shpown in the two examples above. In uniform distribution numbers are roughly evenly spread across the sample range. \n",
    "\n",
    "To create a matrix of random nymbers with a Guassian (normal) distribution, the *randn* funtion can be used.\n"
   ]
  },
  {
   "cell_type": "code",
   "execution_count": 17,
   "metadata": {},
   "outputs": [
    {
     "data": {
      "text/plain": [
       "array([[-1.01403612, -1.17939361,  0.58801427],\n",
       "       [ 0.1768276 , -0.06924073,  1.21056891]])"
      ]
     },
     "execution_count": 17,
     "metadata": {},
     "output_type": "execute_result"
    }
   ],
   "source": [
    "np.random.randn(2, 3)\n"
   ]
  },
  {
   "cell_type": "code",
   "execution_count": 18,
   "metadata": {},
   "outputs": [
    {
     "data": {
      "text/plain": [
       "array([65, 87, 99, 97, 73])"
      ]
     },
     "execution_count": 18,
     "metadata": {},
     "output_type": "execute_result"
    }
   ],
   "source": [
    "np.random.randint(50, 100, 5)"
   ]
  },
  {
   "cell_type": "markdown",
   "metadata": {},
   "source": [
    "The *random_sample* funtion returns a particular lenght list of items chosen from the sequence i.e lists tuple, string or set. "
   ]
  },
  {
   "cell_type": "code",
   "execution_count": 19,
   "metadata": {},
   "outputs": [
    {
     "data": {
      "text/plain": [
       "0.4801964125379182"
      ]
     },
     "execution_count": 19,
     "metadata": {},
     "output_type": "execute_result"
    }
   ],
   "source": [
    "np.random.random_sample()"
   ]
  },
  {
   "cell_type": "code",
   "execution_count": 20,
   "metadata": {},
   "outputs": [
    {
     "data": {
      "text/plain": [
       "float"
      ]
     },
     "execution_count": 20,
     "metadata": {},
     "output_type": "execute_result"
    }
   ],
   "source": [
    "type(np.random.random_sample())"
   ]
  },
  {
   "cell_type": "code",
   "execution_count": 21,
   "metadata": {},
   "outputs": [
    {
     "data": {
      "text/plain": [
       "array([0.85612174, 0.57554523, 0.10894251, 0.09986427, 0.59701778])"
      ]
     },
     "execution_count": 21,
     "metadata": {},
     "output_type": "execute_result"
    }
   ],
   "source": [
    "np.random.random_sample((5,))"
   ]
  },
  {
   "cell_type": "code",
   "execution_count": 22,
   "metadata": {},
   "outputs": [
    {
     "data": {
      "text/plain": [
       "array([[-0.03636033, -0.3272746 ],\n",
       "       [-1.44059982, -0.38915682],\n",
       "       [-4.82753226, -0.33832246]])"
      ]
     },
     "execution_count": 22,
     "metadata": {},
     "output_type": "execute_result"
    }
   ],
   "source": [
    "5*np.random.random_sample((3,2)) - 5"
   ]
  },
  {
   "cell_type": "markdown",
   "metadata": {},
   "source": [
    "\n",
    "\n",
    "\n",
    "### Permutations ###\n",
    "\n",
    "A permutation is the arrangement of objects in a specific order. The order of arrangement of the object is very important. The perfunctions in permuatations randomly shuffle in a given way. If x is a multidimensional array, it is only shuffled along its first index.\n",
    "\n"
   ]
  },
  {
   "cell_type": "code",
   "execution_count": 24,
   "metadata": {},
   "outputs": [
    {
     "data": {
      "text/plain": [
       "array([4, 5, 8, 9, 0, 3, 6, 7, 2, 1])"
      ]
     },
     "execution_count": 24,
     "metadata": {},
     "output_type": "execute_result"
    }
   ],
   "source": [
    "np.random.permutation(10)"
   ]
  },
  {
   "cell_type": "code",
   "execution_count": 25,
   "metadata": {},
   "outputs": [
    {
     "data": {
      "text/plain": [
       "array([ 1,  8, 12, 15,  4, 11])"
      ]
     },
     "execution_count": 25,
     "metadata": {},
     "output_type": "execute_result"
    }
   ],
   "source": [
    "np.random.permutation([1,4,8,11,12,15])"
   ]
  },
  {
   "cell_type": "markdown",
   "metadata": {},
   "source": [
    "\n",
    "\n",
    "# Task 3 #\n",
    "\n",
    "## Explain the use and purpose of at least 5 \"Distributions\" functions. \n",
    "\n",
    "\n",
    "Probability distributions describe what we think the probability of each outcome is. With probability meaning the extent to which something or case it likely to happen. There are many different patterns of probability, therefore there are many different distributions. Probability has been studied by mathematicians and statisticians for centuries and many have distributions have been calle after those who first derived them, for example Gaussian, Poisson and Pareto. \n",
    "\n",
    "The following distribution functions available in NumPy will be discussed in more detail:\n",
    "1. Normal Distribution     \n",
    "2. Chisquare Distribution   \n",
    "3. Lognormal Distribution\n",
    "4. Pareto Distribution \n",
    "5. Poisson Distribution\n",
    "6. \n",
    "\n",
    "\n",
    "### Normal Distribution ###\n",
    "\n",
    "Normal distributions is also called Gaussian distibution, after the Carl Freedrich Gauss. It is also called bell curve distribution. The distribution covers the probabilty of real-valued events from many different problem domains. It is also one of the most well-known distribution. A continuous random variable that has a normal distribution is said to be *\"normal\"* or *\"normally distributed\"*. Examples of data that would have normally distributed events include, the weights of newborn babies, heights of people and scores in an exam. \n",
    "\n",
    "The distribution can de defined using two parameters, the mean and the variance. Standard deviation can be used instead of variance. The standard deviation is the square root of the variance. A distribution with a mean of zero and a deviation of 1 is called a standard normal distribution.\n",
    "\n",
    "\n"
   ]
  },
  {
   "cell_type": "code",
   "execution_count": null,
   "metadata": {},
   "outputs": [],
   "source": [
    "np.ramdom.normal(0)"
   ]
  },
  {
   "cell_type": "code",
   "execution_count": 30,
   "metadata": {},
   "outputs": [
    {
     "data": {
      "text/plain": [
       "True"
      ]
     },
     "execution_count": 30,
     "metadata": {},
     "output_type": "execute_result"
    }
   ],
   "source": [
    "mu, sigma = 0, 0.1\n",
    "s = np.random.normal(mu, sigma, 1000)\n",
    "abs(mu - np.mean(s)) < 0.01"
   ]
  },
  {
   "cell_type": "code",
   "execution_count": 35,
   "metadata": {},
   "outputs": [
    {
     "data": {
      "image/png": "[encoded data removed]",
      "text/plain": [
       "<Figure size 432x288 with 1 Axes>"
      ]
     },
     "metadata": {
      "needs_background": "light"
     },
     "output_type": "display_data"
    }
   ],
   "source": [
    "import matplotlib.pyplot as plt\n",
    "count, bins, ignored = plt.hist(s, 30, density=True)\n",
    "plt.plot(bins, 1/(sigma * np.sqrt(2 * np.pi)) *\n",
    "                np.exp( - (bins - mu)**2 / (2 * sigma**2) ),\n",
    "          linewidth=2, color='r')\n",
    "plt.show()\n"
   ]
  },
  {
   "cell_type": "markdown",
   "metadata": {},
   "source": [
    "### Chi-square Distribution ###\n",
    "\n",
    "Chi-square is a continuous random variable. Continuous random variables are defined from a standard form and may require require some shape parameters to complete its specification. \n",
    "\n",
    "A chi square (χ2) statistic is a test that measures how expectations compare to actual observed data (or model results). The data used in calculating a chi square statistic must be random, raw, mutually exclusive, drawn from independent variables, and drawn from a large enough sample. For example, the results of tossing a coin 100 times meet these criteria. Chi square tests are often used in hypothesis testing\n",
    "\n",
    "A chi square (χ2) statistic is a test that measures how expectations compare to actual observed data.\n",
    "There are two main kinds of chi square tests: the test of independence for data and tests of goodness of fit for a model.These tests can be used to determine if a certain null hypothesis can be rejected in hypothesis testing. [5]\n"
   ]
  },
  {
   "cell_type": "code",
   "execution_count": 38,
   "metadata": {},
   "outputs": [
    {
     "name": "stderr",
     "output_type": "stream",
     "text": [
      "C:\\Users\\Niamh\\Anaconda3\\lib\\site-packages\\matplotlib\\axes\\_axes.py:6521: MatplotlibDeprecationWarning: \n",
      "The 'normed' kwarg was deprecated in Matplotlib 2.1 and will be removed in 3.1. Use 'density' instead.\n",
      "  alternative=\"'density'\", removal=\"3.1\")\n"
     ]
    },
    {
     "data": {
      "image/png": "[encoded data removed]",
      "text/plain": [
       "<Figure size 432x288 with 1 Axes>"
      ]
     },
     "metadata": {
      "needs_background": "light"
     },
     "output_type": "display_data"
    }
   ],
   "source": [
    "from scipy.stats import chi2\n",
    "import matplotlib.pyplot as plt\n",
    "fig, ax = plt.subplots(1, 1)\n",
    "\n",
    "df = 55\n",
    "mean, var, skew, kurt = chi2.stats(df, moments='mvsk')\n",
    "\n",
    "x = np.linspace(chi2.ppf(0.01, df),\n",
    "              chi2.ppf(0.99, df), 100)\n",
    "ax.plot(x, chi2.pdf(x, df),\n",
    "          'r-', lw=5, alpha=0.6, label='chi2 pdf')\n",
    "\n",
    "rv = chi2(df)\n",
    "ax.plot(x, rv.pdf(x), 'k-', lw=2, label='frozen pdf')\n",
    "\n",
    "\n",
    "vals = chi2.ppf([0.001, 0.5, 0.999], df)\n",
    "np.allclose([0.001, 0.5, 0.999], chi2.cdf(vals, df))\n",
    "True\n",
    "\n",
    "r = chi2.rvs(df, size=1000)\n",
    "\n",
    "\n",
    "ax.hist(r, normed=True, histtype='stepfilled', alpha=0.2)\n",
    "ax.legend(loc='best', frameon=False)\n",
    "plt.show()"
   ]
  },
  {
   "cell_type": "markdown",
   "metadata": {},
   "source": [
    "### Lognormal ###\n",
    "\n",
    "A log normal distribution is a statisticsl distribution of logarithmic values from a related normal distribution. A log normal distribution results if the variable id the product of a large number of independent, identically distributed variables. \n",
    "\n",
    "In a normal distribution, 68% (34%+34%) of the results fall within one standard deviation, and 95% (68%+13.5%+13.5%) fall within two standard deviations.  The lognormal distribution differs from the normal distribution in several ways. A major difference is in its shape: the normal distribution is symmetrical, whereas the lognormal distribution is not. Because the values in a lognormal distribution are positive, they create a right-skewed curve. \n",
    "\n",
    "This skewness is important in determining which distribution is appropriate to use in investment decision-making. A further distinction is that the values used to derive a lognormal distribution are normally distributed. [6]\n",
    "\n"
   ]
  },
  {
   "cell_type": "code",
   "execution_count": 48,
   "metadata": {},
   "outputs": [
    {
     "data": {
      "image/png": "[encoded data removed]",
      "text/plain": [
       "<Figure size 432x288 with 1 Axes>"
      ]
     },
     "metadata": {
      "needs_background": "light"
     },
     "output_type": "display_data"
    }
   ],
   "source": [
    "from scipy.stats import lognorm\n",
    "import matplotlib.pyplot as plt\n",
    "fig, ax = plt.subplots(1, 1)\n",
    "\n",
    "s = 0.953682269606\n",
    "mean, var, skew, kurt = lognorm.stats(s, moments='mvsk')\n",
    "\n",
    "x = np.linspace(lognorm.ppf(0.01, s),\n",
    "               lognorm.ppf(0.99, s), 100)\n",
    "ax.plot(x, lognorm.pdf(x, s),\n",
    "         'r-', lw=5, alpha=0.6, label='lognorm pdf')\n",
    "\n",
    "rv = lognorm(s)\n",
    "ax.plot(x, rv.pdf(x), 'k-', lw=2, label='frozen pdf')\n",
    "\n",
    "\n",
    "vals = lognorm.ppf([0.001, 0.5, 0.999], s)\n",
    "np.allclose([0.001, 0.5, 0.999], lognorm.cdf(vals, s))\n",
    "True\n",
    "\n",
    "r = lognorm.rvs(s, size=1000)\n",
    "\n",
    "ax.hist(r, normed=True, histtype='stepfilled', alpha=0.2)\n",
    "ax.legend(loc='best', frameon=False)\n",
    "plt.show()"
   ]
  },
  {
   "cell_type": "markdown",
   "metadata": {},
   "source": [
    "The shape of the lognormal distribution is defined by three parameters:\n",
    "\n",
    "* σ, the shape parameter. Also the standard deviation for the lognormal, this affects the general shape of the distribution. Usually, these parameters are known from historical data. Sometimes, you might be able to estimate it with current data. The shape parameter doesn’t change the location or height of the graph; it just affects the overall shape.\n",
    "* m, the scale parameter (this is also the median). This parameter shrinks or stretches the graph.\n",
    "* Θ (or μ), the location parameter, which tells you where on the x-axis the graph is located.[7]\n",
    "\n",
    "\n"
   ]
  },
  {
   "cell_type": "markdown",
   "metadata": {},
   "source": [
    "### Pareto Distribution ###"
   ]
  },
  {
   "cell_type": "code",
   "execution_count": 49,
   "metadata": {},
   "outputs": [
    {
     "data": {
      "image/png": "[encoded data removed]",
      "text/plain": [
       "<Figure size 432x288 with 1 Axes>"
      ]
     },
     "metadata": {
      "needs_background": "light"
     },
     "output_type": "display_data"
    }
   ],
   "source": [
    "from scipy.stats import pareto\n",
    "import matplotlib.pyplot as plt\n",
    "fig, ax = plt.subplots(1, 1)\n",
    "\n",
    "b = 2.62171653214\n",
    "mean, var, skew, kurt = pareto.stats(b, moments='mvsk')\n",
    "\n",
    "x = np.linspace(pareto.ppf(0.01, b),\n",
    "              pareto.ppf(0.99, b), 100)\n",
    "ax.plot(x, pareto.pdf(x, b),\n",
    "          'r-', lw=5, alpha=0.6, label='pareto pdf')\n",
    "\n",
    "rv = pareto(b)\n",
    "ax.plot(x, rv.pdf(x), 'k-', lw=2, label='frozen pdf')\n",
    "\n",
    "vals = pareto.ppf([0.001, 0.5, 0.999], b)\n",
    "np.allclose([0.001, 0.5, 0.999], pareto.cdf(vals, b))\n",
    "True\n",
    "\n",
    "r = pareto.rvs(b, size=1000)\n",
    "\n",
    "ax.hist(r, normed=True, histtype='stepfilled', alpha=0.2)\n",
    "ax.legend(loc='best', frameon=False)\n",
    "plt.show()"
   ]
  },
  {
   "cell_type": "markdown",
   "metadata": {},
   "source": [
    "### Poisson Distribution ##"
   ]
  },
  {
   "cell_type": "code",
   "execution_count": 50,
   "metadata": {},
   "outputs": [
    {
     "data": {
      "image/png": "[encoded data removed]",
      "text/plain": [
       "<Figure size 432x288 with 1 Axes>"
      ]
     },
     "metadata": {
      "needs_background": "light"
     },
     "output_type": "display_data"
    }
   ],
   "source": [
    "from scipy.stats import poisson\n",
    "import matplotlib.pyplot as plt\n",
    "fig, ax = plt.subplots(1, 1)\n",
    "\n",
    "mu = 0.6\n",
    "ean, var, skew, kurt = poisson.stats(mu, moments='mvsk')\n",
    "\n",
    "x = np.arange(poisson.ppf(0.01, mu),\n",
    "             poisson.ppf(0.99, mu))\n",
    "ax.plot(x, poisson.pmf(x, mu), 'bo', ms=8, label='poisson pmf')\n",
    "ax.vlines(x, 0, poisson.pmf(x, mu), colors='b', lw=5, alpha=0.5)\n",
    "\n",
    "rv = poisson(mu)\n",
    "ax.vlines(x, 0, rv.pmf(x), colors='k', linestyles='-', lw=1,\n",
    "        label='frozen pmf')\n",
    "ax.legend(loc='best', frameon=False)\n",
    "plt.show()"
   ]
  },
  {
   "cell_type": "markdown",
   "metadata": {},
   "source": [
    "# Task 4 #\n",
    "\n",
    "## Explain the use of seeds in generating pseudonumbers ##\n",
    "\n",
    "A random seed specifies the start point whn a computer generates a random umber sequence. (Hendemand & Lee, 2001) [5] \n",
    "Due to computers being deterministic, they do not generate truly random numbers. It is posible to miminic randomness by specifying s set of rules. For example, \"take a number x, add 900+x, then subtract 52.\"\n",
    "Let take the starting number 77;\n",
    "\n",
    "    Add 900 + 77 = 977    \n",
    "    Subtract 52 = 977\n",
    "\n",
    "The second random number would be;.  \n",
    "\n",
    "    900 +77 = 1825\n",
    "    subtract 52 = 1773\n",
    "\n",
    "This example follows a pattern. However algorithims behind computer number generation is more complicated and based on distributions, such as Bernoulli Distribution or Poisson Distribution. [6]\n",
    "\n",
    "A pseudo random number, is a numebr that is sort-of random. Pseudorandom numbers are number that appear to be random , but are not actually random. \"A pseudo random number is a computer generated random numner. The prefix pseudo is used to disringuish this type of number from a truly random number generated by a random physical process such as radioacrive decay.\" [7] Therefore pseudorandom numbera are computer generated numbers, that seem random but are actually predetermined. However, by running algorithms called Pseuso-Random Number Genators (PRNG), computer scientists were able to generate number that have properties that approximate the properties of random numbers. [8] Number generated a PRNG appear to be random, in that eventhough thay are generated by an algorithm, there is no discernible pattern to them.\n",
    "\n",
    "Creating pseudo-random numbers with NumPY"
   ]
  },
  {
   "cell_type": "code",
   "execution_count": 6,
   "metadata": {},
   "outputs": [
    {
     "data": {
      "text/plain": [
       "array([6, 9, 6, 1, 1, 2, 8, 7, 3, 5, 6, 3, 5, 3, 5, 8, 8, 2, 8, 1, 7, 8,\n",
       "       7, 2, 1, 2, 9, 9, 4, 9, 8, 4, 7, 6, 2, 4, 5, 9, 2, 5, 1, 4, 3, 1,\n",
       "       5, 3, 8, 8, 9, 7])"
      ]
     },
     "execution_count": 6,
     "metadata": {},
     "output_type": "execute_result"
    }
   ],
   "source": [
    "import numpy as np\n",
    "\n",
    "np.random.seed(1)\n",
    "np.random.randint(low = 1, high = 10, size = 50)"
   ]
  },
  {
   "cell_type": "markdown",
   "metadata": {},
   "source": [
    "Eventhough, these numbers look random. They are completly generated by the alogrithm. Running the same code will produce the same result. "
   ]
  },
  {
   "cell_type": "code",
   "execution_count": 8,
   "metadata": {},
   "outputs": [
    {
     "data": {
      "text/plain": [
       "array([30, 91,  9, 73, 62])"
      ]
     },
     "execution_count": 8,
     "metadata": {},
     "output_type": "execute_result"
    }
   ],
   "source": [
    "np.random.seed(74)\n",
    "np.random.randint(low = 0, high = 100, size = 5)"
   ]
  },
  {
   "cell_type": "markdown",
   "metadata": {},
   "source": [
    "Let's run the same code!"
   ]
  },
  {
   "cell_type": "code",
   "execution_count": 9,
   "metadata": {},
   "outputs": [
    {
     "data": {
      "text/plain": [
       "array([30, 91,  9, 73, 62])"
      ]
     },
     "execution_count": 9,
     "metadata": {},
     "output_type": "execute_result"
    }
   ],
   "source": [
    "np.random.seed(74)\n",
    "np.random.randint(low = 0, high = 100, size = 5)"
   ]
  },
  {
   "cell_type": "markdown",
   "metadata": {},
   "source": [
    "Let's change the \"seed\"!"
   ]
  },
  {
   "cell_type": "code",
   "execution_count": 10,
   "metadata": {},
   "outputs": [
    {
     "data": {
      "text/plain": [
       "array([75, 30,  3, 32, 95])"
      ]
     },
     "execution_count": 10,
     "metadata": {},
     "output_type": "execute_result"
    }
   ],
   "source": [
    "np.random.seed(45)\n",
    "np.random.randint(low = 0, high = 100, size = 5)"
   ]
  },
  {
   "cell_type": "markdown",
   "metadata": {},
   "source": [
    "The same integers are generated if we use the same seed and different if we change the seed. "
   ]
  },
  {
   "cell_type": "markdown",
   "metadata": {},
   "source": [
    "Pseudo-random numbers are dependent on the input. This is where the numpy.random.seed comes into its own. The seed is provides the input to generate randonmness. Numpy.random.seed works in conjunction with other functions in NumPy. \n"
   ]
  },
  {
   "cell_type": "markdown",
   "metadata": {},
   "source": [
    "Generating random numbers is a quite common task in security software and often enctyption keys are generated by software. For example the Monte Carlo methods are a subset of computational algorithms that use the process of repeated random samploing to make numnerical estimations of unknown parameters. The concept was invented by Stanislaw Ulan as part of the Manhattan project.\n",
    "\n",
    "## References ## \n",
    "* [1] www.tutorialspoint.com/numpy/index.htm \n",
    "* [2] www.python-course.eu/numpy.php \n",
    "* [3] www.hugunin.net/projects.html \n",
    "* [4] www.machinelearningmastery.com \n",
    "* [5] https://www.investopedia.com/terms/c/chi-square-statistic.asp\n",
    "* [6] https://www.investopedia.com/articles/investing/102014/lognormal-and-normal-distribution.asp \n",
    "* [7] https://www.statisticshowto.datasciencecentral.com/lognormal-distribution/\n",
    "* [5] Henkemans, D & Lee, M (2001), C++ Programming for Absolute Beginner, Cengage \n",
    "* [6] www.statisticshowto.datasciencecentral.com \n",
    "* [7] www.mathworld.wolfram.com *\n",
    "* [8] www.sharpsighlabs.com/blog/numpt-random-seed/"
   ]
  }
 ],
 "metadata": {
  "kernelspec": {
   "display_name": "Python 3",
   "language": "python",
   "name": "python3"
  },
  "language_info": {
   "codemirror_mode": {
    "name": "ipython",
    "version": 3
   },
   "file_extension": ".py",
   "mimetype": "text/x-python",
   "name": "python",
   "nbconvert_exporter": "python",
   "pygments_lexer": "ipython3",
   "version": "3.7.1"
  }
 },
 "nbformat": 4,
 "nbformat_minor": 2
}
