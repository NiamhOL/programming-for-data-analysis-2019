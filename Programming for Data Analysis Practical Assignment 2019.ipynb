{
 "cells": [
  {
   "cell_type": "markdown",
   "metadata": {},
   "source": [
    "# Task 1 #\n",
    "## Explain the overall purpose of the package ##\n",
    "\n",
    "NumPy is short for Numerical Python, and it is a \"library consisting of multidimensional array objects and a collection of routines for processing those arrays.\" [1] An array can be described as a structural set of data, which is typically ordered in row and columns format. Numpy is very useful for perfroming mathematical and logical operations on arrays and it is a fundamental package for scientific computing within Python. NumPy also \"enriches the the programming language Python with powerful data structures, implementing multi-dimensional arrays and matrices.\" [2] These data structures allow for effecient calculations with matrices and arrays. The package also supplies a large library of high-level mathematical functions to operate on.\n",
    "\n",
    "NumPy was developed by Jim Hugunin in 2005 who incorporated features of Numarray into Numeric package. \"Numeric Python took the strong support for numeric arrays provided by special puropse languages such as Matlab and provided them to Python develops in a way the was seamlessly integrated with the rest of the Python language.\" [3] As a result it is used in a variety of situations, including acacdemic institutions and commercial entities to analyse numeric data, in very large matrices and arrays, often referred to as \"big data\". NumPy functions operate on numbers, which is particularly useful for data analytics. For example, while undertaking data analytics, one will be working with tables of numbers, which often require cleaning, organising and reshaping, otherwise known as data manipulation. NumPy allows for the creating an manipulation of numerical data. In recent years NumPy has become important for \"machine learning\", since this often involves the data manipulation of large datasets of numerical data.\n",
    "\n",
    "A NumPy array is a simple grid that containes values of the same type. Arrays come in two forms: Vectors, which are structly one-dimensional (1-d) arrays and Matrices which are multidimensional.\n",
    "\n",
    "To import NumPy use the following code:\n"
   ]
  },
  {
   "cell_type": "code",
   "execution_count": 1,
   "metadata": {},
   "outputs": [],
   "source": [
    "import numpy as np                  # import numpy #"
   ]
  },
  {
   "cell_type": "markdown",
   "metadata": {},
   "source": [
    "\n",
    "### References ###\n",
    "[1] www.tutorialspoint.com/numpy/index.htm \n",
    "[2] www.python-course.eu/numpy.php \n",
    "[3] www.hugunin.net/projects.html\n",
    "\n",
    "# Task 2 #\n",
    "## Explain the use of the \"Simple Random Data\" and \"Permutations\" functions##\n",
    "\n",
    "\n",
    "### Simple Random Data ###\n",
    "\n",
    "\"The use of randomness in an important part of the configuration and evaluaiton of machine leaning.\" [1] A random number is the outcome of a process which speedily chooses it from a sequence. This is called random numner generation. \n",
    "\n",
    "NumPy can be used for random value generation. To get random values in a matrix form, use the following code;\n"
   ]
  },
  {
   "cell_type": "code",
   "execution_count": 2,
   "metadata": {},
   "outputs": [
    {
     "data": {
      "text/plain": [
       "array([[0.60209442, 0.86619933],\n",
       "       [0.66716474, 0.40627786],\n",
       "       [0.59237502, 0.13221428]])"
      ]
     },
     "execution_count": 2,
     "metadata": {},
     "output_type": "execute_result"
    }
   ],
   "source": [
    "np.random.rand(3, 2)    \n"
   ]
  },
  {
   "cell_type": "markdown",
   "metadata": {},
   "source": [
    "This can also be extended to form multiple rows and columns.\n"
   ]
  },
  {
   "cell_type": "code",
   "execution_count": 3,
   "metadata": {},
   "outputs": [],
   "source": [
    "import numpy as np\n"
   ]
  },
  {
   "cell_type": "code",
   "execution_count": 5,
   "metadata": {},
   "outputs": [
    {
     "data": {
      "text/plain": [
       "array([[0.11208925, 0.49415309, 0.905871  , 0.82423164, 0.47742088,\n",
       "        0.81131945, 0.79383787, 0.28618626, 0.71260098, 0.94747218,\n",
       "        0.52885431, 0.55021301, 0.62776772],\n",
       "       [0.31170224, 0.22690313, 0.91053773, 0.05507754, 0.55838159,\n",
       "        0.0935331 , 0.49811645, 0.60599511, 0.22360439, 0.85786897,\n",
       "        0.96224423, 0.63430163, 0.78953033],\n",
       "       [0.73629327, 0.7017569 , 0.16424096, 0.58148774, 0.82299599,\n",
       "        0.15945413, 0.35461559, 0.05964918, 0.98689671, 0.17262454,\n",
       "        0.46249721, 0.67818919, 0.27798547],\n",
       "       [0.32252889, 0.34808645, 0.69568037, 0.37729036, 0.94913386,\n",
       "        0.98340934, 0.08170673, 0.9342973 , 0.99902079, 0.79593316,\n",
       "        0.93566438, 0.62133191, 0.7677412 ],\n",
       "       [0.19235596, 0.1682083 , 0.97841956, 0.11291791, 0.13348355,\n",
       "        0.70071102, 0.30314874, 0.84867126, 0.39099629, 0.47341085,\n",
       "        0.81838939, 0.69213799, 0.53529089],\n",
       "       [0.17594472, 0.93517402, 0.59564712, 0.70472832, 0.85795196,\n",
       "        0.13603469, 0.57465221, 0.25774825, 0.40145525, 0.8002046 ,\n",
       "        0.2846523 , 0.60047607, 0.77465799],\n",
       "       [0.85115551, 0.06359008, 0.38353687, 0.36866594, 0.50187648,\n",
       "        0.77516268, 0.20987463, 0.43133693, 0.99757228, 0.30880562,\n",
       "        0.99779455, 0.1130988 , 0.64356895],\n",
       "       [0.84358584, 0.62802907, 0.01888754, 0.11268855, 0.80624404,\n",
       "        0.12507948, 0.12436807, 0.83326519, 0.43435103, 0.994961  ,\n",
       "        0.09399147, 0.23095591, 0.85035343],\n",
       "       [0.01558551, 0.14736421, 0.92162049, 0.81151732, 0.5640211 ,\n",
       "        0.18657256, 0.52763762, 0.82412488, 0.66821093, 0.14333464,\n",
       "        0.94528894, 0.48617192, 0.28658925],\n",
       "       [0.51552342, 0.00683505, 0.95174683, 0.14179585, 0.81949291,\n",
       "        0.88635262, 0.11004063, 0.14337774, 0.16138896, 0.75405143,\n",
       "        0.29164187, 0.9720873 , 0.03396706],\n",
       "       [0.96165333, 0.11743197, 0.23295173, 0.92223837, 0.6685532 ,\n",
       "        0.24624008, 0.21859713, 0.1085093 , 0.37570747, 0.96236417,\n",
       "        0.50012483, 0.05337496, 0.17262432],\n",
       "       [0.3793299 , 0.58841257, 0.91206286, 0.18546188, 0.92598708,\n",
       "        0.27328307, 0.87536672, 0.15288984, 0.93373176, 0.86969748,\n",
       "        0.49241812, 0.16805294, 0.77725239]])"
      ]
     },
     "execution_count": 5,
     "metadata": {},
     "output_type": "execute_result"
    }
   ],
   "source": [
    "np.random.rand(12,13)\n"
   ]
  },
  {
   "cell_type": "markdown",
   "metadata": {},
   "source": []
  }
 ],
 "metadata": {
  "kernelspec": {
   "display_name": "Python 3",
   "language": "python",
   "name": "python3"
  },
  "language_info": {
   "codemirror_mode": {
    "name": "ipython",
    "version": 3
   },
   "file_extension": ".py",
   "mimetype": "text/x-python",
   "name": "python",
   "nbconvert_exporter": "python",
   "pygments_lexer": "ipython3",
   "version": "3.7.1"
  }
 },
 "nbformat": 4,
 "nbformat_minor": 2
}
